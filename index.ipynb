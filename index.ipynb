{
 "cells": [
  {
   "cell_type": "markdown",
   "metadata": {},
   "source": [
    "# Project: Analyzing Macbeth\n",
    "\n",
    "## Introduction\n",
    "Now we're going to do some rudimentry analysis of Shakespeare's classic play: Macbeth! You will get practice working with lists and dictionaries, condtionals, visualizing data, and thinking analytically about data.\n",
    "\n",
    "## Objectives\n",
    "You will be able to:\n",
    "* Show mastery of the content covered in this section\n",
    "\n",
    "## Getting the Data\n",
    "Here we start by importing a Python package and using it to pull the transcript of Macbeth from the project Gutenberg website. We also preview a few details about what is now stored in the variable macbeth; it's a string with 119,846 characters, the first 500 of which are printed below. "
   ]
  },
  {
   "cell_type": "code",
   "execution_count": 1,
   "metadata": {},
   "outputs": [
    {
     "name": "stdout",
     "output_type": "stream",
     "text": [
      "<class 'str'>\n",
      "120253\n"
     ]
    }
   ],
   "source": [
    "import requests\n",
    "macbeth = requests.get('http://www.gutenberg.org/cache/epub/2264/pg2264.txt').text\n",
    "\n",
    "print(type(macbeth))\n",
    "print(len(macbeth))"
   ]
  },
  {
   "cell_type": "markdown",
   "metadata": {},
   "source": [
    "## Your Task\n",
    "\n",
    "Your task is to create a bar graph of the 25 most common words in Shakespeare's Macbeth.  \n",
    "\n",
    "\n",
    "A common Python programming pattern to count objects, produce histograms, or update statistics is to make calls to a dictionary as you iterate through a list. For example, given a list of words, you can create a dictionary to store counts and then iterate through the list of words, checking how many times each word has appeared using your dictionary, and updating the dictionary count now that you've seen that word again. The `.get()` method of dictionary is very useful in doing this. Read the docstring for the `.get()` method and use it along with the pseudocode below to create a bar graph of the 25 most common words from the transcript of Macbeth which has been loaded into the variable 'macbeth'. Be sure to include a title and appropriate labels for your graph."
   ]
  },
  {
   "cell_type": "code",
   "execution_count": 17,
   "metadata": {},
   "outputs": [
    {
     "name": "stdout",
     "output_type": "stream",
     "text": [
      "{'the': 522, 'and': 365, 'of': 311, 'to': 307, 'I': 250, 'a': 211, 'my': 166, 'in': 165, 'is': 155, 'Macb.': 137, 'you': 135, 'that': 134, 'with': 130, 'not': 129, 'his': 126, 'be': 115, 'your': 110, 'haue': 105, 'it': 104, 'our': 103, 'for': 75, 'he': 70, 'this': 67, 'me': 67, 'thou': 61}\n"
     ]
    },
    {
     "data": {
      "image/png": "[encoded data removed]",
      "text/plain": [
       "<matplotlib.figure.Figure at 0x10fd17e48>"
      ]
     },
     "metadata": {},
     "output_type": "display_data"
    }
   ],
   "source": [
    "import pandas as pd\n",
    "import numpy as np\n",
    "import matplotlib.pyplot as plt\n",
    "%matplotlib inline\n",
    "\n",
    "# Your code here\n",
    "# Pseudo-code outline\n",
    "# Split the transcript into words\n",
    "macbeth_words = macbeth[16652:]\n",
    "\n",
    "macbeth_stripped_comma = macbeth_words.strip(',')\n",
    "macbeth_stripped_period = macbeth_stripped_comma.strip('.')\n",
    "macbeth_stripped_question = macbeth_stripped_period.strip('?')\n",
    "macbeth_stripped_colon = macbeth_stripped_question.strip(':')\n",
    "macbeth_stripped_exclamation = macbeth_stripped_colon.strip('!')\n",
    "words = macbeth_stripped_exclamation.split(\" \")\n",
    "#wordstring = macbeth_words.split()\n",
    "#print(\"Total words: \", len(words))\n",
    "\n",
    "#macbeth_unique_set = set(wordstring)\n",
    "#wordlist = (macbeth_unique_set)\n",
    "#print(\"unique words: \", len(wordlist))\n",
    "\n",
    "d = dict()\n",
    "from collections import Counter\n",
    "d = Counter(words)\n",
    "\n",
    "list_of_tuples = [(k, v) for k, v in d.items()]\n",
    "#print(list_of_tuples[:25])\n",
    "\n",
    "sorted_lot = sorted(list_of_tuples, key=lambda t: t[1], reverse=True)\n",
    "sorted_lot[:25]\n",
    "\n",
    "top_25 = sorted_lot[1:26]\n",
    "top_25_dict = dict(top_25)\n",
    "print(top_25_dict)\n",
    "            \n",
    "# Create a dictionary \n",
    "\n",
    "# Iterate through the text of Macbeth\n",
    "\n",
    "\n",
    "# Update word counts\n",
    "\n",
    "# Create Bar Graph\n",
    "plt.figure(figsize=(10, 10))\n",
    "plt.bar(range(len(top_25)), top_25_dict.values())\n",
    "plt.xticks(range(len(top_25)), top_25_dict.keys(), rotation=90)\n",
    "plt.show()\n",
    "\n",
    "\n",
    "# Include descriptive titles and labels"
   ]
  },
  {
   "cell_type": "markdown",
   "metadata": {},
   "source": [
    "## Level Up (Optional)\n",
    "This project should take you about an hour and a half to complete. If you're done much more quickly than that and are not behind in the course, feel free to deepen your knowledge by completing any or all of the following tasks until you run out of time:\n",
    "* Create a list of top characters by mentions of their names \n",
    "* Split the text by which character is talking\n",
    "* Create subgraphs of the most common words by character\n",
    "* Reduce the string to the text of the play itself. (Remove any initial notes, forward, introduction, appendix, etc.)\n",
    "* Come up with some other fun analyses of the text!\n",
    "\n",
    "## Summary\n",
    "Congratulations! You've got some extra practice combining various data types into useful programming patterns and done an initial analysis of a classic text!"
   ]
  },
  {
   "cell_type": "code",
   "execution_count": 19,
   "metadata": {},
   "outputs": [
    {
     "name": "stdout",
     "output_type": "stream",
     "text": [
      "2025\n"
     ]
    }
   ],
   "source": [
    "macbeth_chars = []\n",
    "\n",
    "for word in words:\n",
    "    if word == word.title():\n",
    "        macbeth_chars.append(word)\n",
    "#print(macbeth_chars)\n",
    "#words = macbeth_words.split(\" \")\n",
    "\n",
    "c = dict()\n",
    "c = Counter(macbeth_chars)\n",
    "list_of_characters = [(k, v) for k, v in c.items()]\n",
    "\n",
    "sorted_chars = sorted(list_of_characters, key=lambda t: t[1], reverse=True)\n",
    "print(len(sorted_chars))"
   ]
  },
  {
   "cell_type": "code",
   "execution_count": null,
   "metadata": {
    "collapsed": true
   },
   "outputs": [],
   "source": []
  }
 ],
 "metadata": {
  "kernelspec": {
   "display_name": "learn-env",
   "language": "python",
   "name": "learn-env"
  },
  "language_info": {
   "codemirror_mode": {
    "name": "ipython",
    "version": 3
   },
   "file_extension": ".py",
   "mimetype": "text/x-python",
   "name": "python",
   "nbconvert_exporter": "python",
   "pygments_lexer": "ipython3",
   "version": "3.6.2"
  }
 },
 "nbformat": 4,
 "nbformat_minor": 2
}
